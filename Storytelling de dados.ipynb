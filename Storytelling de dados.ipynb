{
 "cells": [
  {
   "cell_type": "markdown",
   "id": "f1e33795",
   "metadata": {},
   "source": [
    "<center><img width=\"25%\" src=\"https://www.camaramirimdoce.sc.gov.br/media/noticia/resumo-da-sessao-10-06-2019-111.png?w=848&h=450&t=P&c=f0f0f0&q=80&v=2\"></center>\n",
    "\n",
    "---\n",
    "\n",
    "<br>\n",
    "\n",
    "# Storytelling de dados\n",
    "\n",
    "<br>"
   ]
  },
  {
   "cell_type": "markdown",
   "id": "ad1dd8c2",
   "metadata": {},
   "source": [
    "# **Sumário:**\n",
    "1. [Introdução](#Introdução)\n",
    "1. [Fundamentos da Visualização de Dados](#Fundamentos-da-Visualização-de-Dados)"
   ]
  },
  {
   "cell_type": "markdown",
   "id": "b6dad8af",
   "metadata": {},
   "source": [
    "### **Introdução** \n",
    "[&#x1F53C;](#Sumário:) Clique para voltar para o sumário"
   ]
  },
  {
   "cell_type": "markdown",
   "id": "aac9e805",
   "metadata": {},
   "source": [
    "### O que é storytelling de dados? <br>\n",
    "#### Storytelling de dados é o processo de comunicar informações e insights através da utilização de dados, de forma a criar uma narrativa envolvente e significativa. Consiste em transformar números e estatísticas em histórias compreensíveis e impactantes, utilizando diferentes elementos narrativos, como personagens, enredos e arcos dramáticos. <br>\n",
    "\n",
    "### Como o storytelling de dados pode ser aplicado em empresas? <br>\n",
    "#### O storytelling de dados é uma técnica que combina a arte de contar histórias com a análise de dados. Ele pode ser aplicado em empresas de diversas maneiras para transmitir <br> informações de forma mais impactante e envolvente. Aqui estão algumas maneiras de aplicar o storytelling de dados em empresas: \n",
    "\n",
    "1. Comunicação interna: Use histórias baseadas em dados para comunicar informações importantes aos funcionários. Isso pode incluir dados sobre o desempenho da empresa, metas alcançadas, tendências do mercado, entre outros. Ao contar histórias, os dados se tornam mais acessíveis e compreensíveis para os colaboradores.\n",
    "2. Apresentações e relatórios: Ao invés de simplesmente apresentar gráficos e números, utilize o storytelling de dados para criar narrativas envolventes ao redor dos dados. Isso ajudará a transmitir a mensagem de forma mais clara e memorável para a audiência.\n",
    "3. Tomada de decisão: Ao analisar dados para tomar decisões estratégicas, utilize o storytelling para apresentar as conclusões de forma mais persuasiva. Ao contar uma história convincente baseada nos dados, é mais provável que as pessoas se engajem e apoiem a decisão.\n",
    "4. Marketing e vendas: Utilize o storytelling de dados para criar campanhas de marketing e vendas mais eficazes. Ao contar histórias que demonstrem como os produtos ou serviços da empresa podem resolver problemas ou atender às necessidades dos clientes, é possível criar um vínculo emocional e aumentar as chances de conversão.\n",
    "5. Treinamento e desenvolvimento: Ao fornecer treinamento aos funcionários, utilize o storytelling de dados para transmitir informações complexas de forma mais clara e interessante. Isso ajudará a reter o conhecimento e aumentar a eficácia do treinamento.\n",
    "\n",
    "<br>\n",
    "\n",
    "#### O storytelling de dados pode ser uma poderosa ferramenta para empresas, permitindo que elas comuniquem informações importantes, tomem decisões embasadas em dados e envolvam seu público de maneira mais impactante. <br>\n",
    "\n",
    "### Quais são os principais elementos de uma boa história de dados? <br>\n",
    "#### Uma boa história de dados é composta por vários elementos essenciais que ajudam a transmitir informações de forma clara e envolvente. Alguns dos principais elementos de uma boa história de dados são:\n",
    "\n",
    "1. Contexto: É importante fornecer um contexto claro para os dados apresentados, explicando o que está sendo analisado e por quê. Isso ajuda o público a entender a relevância e importância dos dados.\n",
    "    * Tipos de análises: Exploratória (Analisar e compreender) x Explicativa (Comunicar uma história específica)\n",
    "    * Por onde começar: \n",
    "        1. Quem é o seu público → Seja específico (Qual é a relação deles com você? O que os motiva? O que os mantêm acordados a noite?)\n",
    "        2. O que você precisa que eles façam → Seja específico (Não presuma que eles ligarão os pontos)\n",
    "        3. Como os dados ajudarão a defender seu ponto de vista? → Seja perspicaz (Quais dados servirão de prova para o caso?)\n",
    "    * História de 3 minutos: Saber exatamente o que você deseja comunicar reduz a dependência de slides e dados. Tirar o \"E dai?\" (essencial) da história toda.\n",
    "    * Grande ideia: Uma única frase que: articule o ponto de vista, transmita o que está em jogo e seja uma frase completa. Resume ainda mais o \"E dai?\".\n",
    "    * Storyboard: Planejamento inicial para criar um estrutura → Notas adesivas ajudam a evitar o apego ao trabalho realizado no computador, força a articulação concisa e reorganiza facilmente o fluxo. → 1) Chuva de ideias (Brainstorm) → 2) Editar → 3) Obter feedback\n",
    "2. Personagens: Uma história de dados pode se beneficiar da introdução de personagens que representem os dados ou estejam envolvidos na análise. Isso ajuda a criar empatia e torna a história mais interessante.\n",
    "3. Enredo: Assim como qualquer história, uma história de dados precisa ter um enredo bem estruturado. Isso inclui uma introdução, desenvolvimento e conclusão, onde os dados são apresentados de forma lógica e sequencial.\n",
    "4. Visualização: A visualização dos dados desempenha um papel fundamental em uma boa história de dados. Gráficos, tabelas e outros elementos visuais ajudam a transmitir as informações de forma clara e compreensível.\n",
    "5. Narrativa: Uma narrativa convincente é crucial para prender a atenção do público e transmitir a mensagem desejada. A história de dados deve ter uma linha narrativa clara e envolvente, com começo, meio e fim.\n",
    "6. Interatividade: Adicionar elementos interativos à história de dados, como mapas interativos ou gráficos dinâmicos, pode aumentar o envolvimento do público e permitir uma exploração mais profunda dos dados.\n",
    "7. Conclusões e insights: Uma boa história de dados deve fornecer conclusões claras e insights relevantes com base na análise dos dados apresentados. Isso ajuda o público a entender o significado dos dados e sua aplicação prática.\n",
    "\n",
    "<br>\n",
    "\n",
    "#### Ao combinar esses elementos, você poderá criar uma história de dados envolvente e impactante, capaz de transmitir informações complexas de maneira acessível e interessante. <br>\n",
    "\n",
    "### Quais ferramentas podem ser utilizadas para criar uma história de dados eficaz? <br>\n",
    "#### Uma história de dados eficaz pode ser criada utilizando diversas ferramentas. Aqui estão algumas opções populares:\n",
    "\n",
    "1. **Tableau**: O Tableau é uma das ferramentas mais populares para visualização de dados. Ele permite criar gráficos interativos e painéis personalizados para contar histórias com dados.\n",
    "2. **Power BI**: O Power BI, da Microsoft, é outra ferramenta poderosa para criar histórias de dados. Ele oferece recursos avançados de visualização e análise de dados, além de integração com outras ferramentas da Microsoft.\n",
    "3. **Datawrapper**: O Datawrapper é uma ferramenta online que permite criar gráficos e mapas interativos de maneira rápida e fácil. É uma opção ideal para criar visualizações simples, porém eficazes.\n",
    "4. **D3.js**: Se você possui habilidades de programação, o D3.js é uma biblioteca JavaScript muito poderosa para visualização de dados. Ela permite criar visualizações personalizadas e interativas a partir do zero.\n",
    "5. **Storytelling com slides**: Ferramentas como o PowerPoint ou o Google Slides podem ser utilizadas para criar histórias de dados em formato de apresentação. É possível adicionar gráficos, imagens e texto para contar a história dos dados.\n",
    "\n",
    "<br>\n",
    "\n",
    "#### Lembre-se de escolher a ferramenta que melhor se adequa às suas necessidades e habilidades. Experimente diferentes opções e descubra qual delas funciona melhor para você."
   ]
  },
  {
   "cell_type": "markdown",
   "id": "5bac0d5c",
   "metadata": {},
   "source": [
    "### **Fundamentos da Visualização de Dados** \n",
    "[&#x1F53C;](#Sumário:) Clique para voltar para o sumário"
   ]
  },
  {
   "cell_type": "markdown",
   "id": "6fda23c7",
   "metadata": {},
   "source": [
    "## Sites para inspirar quem é da turma das visualizações\n",
    "https://datavizproject.com/\n",
    "Datavizproject.com: Apresenta uma coleção diversificada de tipos de visualizações de dados para inspirar e informar designers de visualização.\n",
    "https://100.datavizproject.com/\n",
    "100.datavizproject.com: Destaca 100 visualizações de dados notáveis e inspiradoras com detalhes sobre sua construção e propósito.\n",
    "https://datavizcatalogue.com/\n",
    "Datavizcatalogue.com: Funciona como um catálogo extenso de diferentes tipos de visualizações de dados, explicando como são construídas e quando aplicá-las.\n",
    "https://www.rawgraphs.io/\n",
    "RawGraphs.io: Oferece uma ferramenta para visualizar e criar gráficos personalizados a partir de dados brutos de maneira flexível e interativa.\n",
    "https://flourish.studio/\n",
    "Flourish.studio: Plataforma online para criar visualizações de dados dinâmicas e interativas, sem exigir conhecimento avançado de programação.\n",
    "https://editor.p5js.org/\n",
    "P5.js: “Simplifica’ a criação de elementos visuais e interativos, oferecendo uma sintaxe amigável para artistas, designers e iniciantes em programação. Com ela, é possível criar jogos, visualizações de dados, arte generativa e uma variedade de projetos criativos baseados na web."
   ]
  },
  {
   "cell_type": "markdown",
   "id": "0669357e",
   "metadata": {},
   "source": [
    "https://clauswilke.com/dataviz/index.html"
   ]
  }
 ],
 "metadata": {
  "kernelspec": {
   "display_name": "Python 3 (ipykernel)",
   "language": "python",
   "name": "python3"
  },
  "language_info": {
   "codemirror_mode": {
    "name": "ipython",
    "version": 3
   },
   "file_extension": ".py",
   "mimetype": "text/x-python",
   "name": "python",
   "nbconvert_exporter": "python",
   "pygments_lexer": "ipython3",
   "version": "3.9.16"
  }
 },
 "nbformat": 4,
 "nbformat_minor": 5
}
