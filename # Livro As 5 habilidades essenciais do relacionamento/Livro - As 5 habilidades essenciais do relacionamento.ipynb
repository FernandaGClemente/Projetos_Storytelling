{
 "cells": [
  {
   "cell_type": "markdown",
   "id": "a1f4057b",
   "metadata": {},
   "source": [
    "<center><img width=\"25%\" src=\"https://www.camaramirimdoce.sc.gov.br/media/noticia/resumo-da-sessao-10-06-2019-111.png?w=848&h=450&t=P&c=f0f0f0&q=80&v=2\"></center>\n",
    "\n",
    "---\n",
    "\n",
    "<br>\n",
    "\n",
    "# Livro - As 5 habilidades essenciais do relacionamento\n",
    "#### Como se expressar, ouvir os outros e resolver conflitos\n",
    "\n",
    "<br>\n",
    "\n",
    "<center><img width=\"10%\" src=\"_imagens/5 habilidades essenciais do relacionamento.jpg\"></center>"
   ]
  },
  {
   "cell_type": "markdown",
   "id": "bbce957e",
   "metadata": {},
   "source": [
    "# **<u>Sumário:</u>**\n",
    "1. [Capítulo 1: Uma introdução a assertividade](#Capítulo-1:-Uma-introdução-a-assertividade)\n",
    "2. [Capítulo 2: As três partes da mensagem assertiva](#Capítulo-2:-As-três-partes-da-mensagem-assertiva)\n",
    "3. [Capítulo 3: Desenvolvimento assertivo da afinidade](#Capítulo-3:-Desenvolvimento-assertivo-da-afinidade)\n",
    "4. [Capítulo 4: Táticas para o desenvolvimento assertivo da afinidade](#Capítulo-4:-Táticas-para-o-desenvolvimento-assertivo-da-afinidade)\n",
    "5. [Capítulo 5: Curiosidade assertiva](#Capítulo-5:-Curiosidade-assertiva)\n",
    "6. [Capítulo 6: Maximize a curiosidade assertiva nos negócios](#Capítulo-6:-Maximize-a-curiosidade-assertiva-nos-negócios)\n",
    "7. [Capítulo 7: Da curiosidade para a compreensão](#Capítulo-7:-Da-curiosidade-para-a-compreensão)\n",
    "8. [Capítulo 8: Etiqueta: regras fundamentais para habilidades interpessoais](#Capítulo-8:-Etiqueta:-regras-fundamentais-para-habilidades-interpessoais)\n",
    "9. [Capítulo 9: Persuasão como habilidade interpessoal](#Capítulo-9:-Persuasão-como-habilidade-interpessoal)\n",
    "10. [Capítulo 10: Elaboração habilidosa de perguntas](#Capítulo-10:-Elaboração-habilidosa-de-perguntas)\n",
    "11. [Capítulo 11: Conversação assertiva](#Capítulo-11:-Conversação-assertiva)\n",
    "12. [Capítulo 12: Ouvindo com assertividade](#Capítulo-12:-Ouvindo-com-assertividade)\n",
    "13. [Capítulo 13: Ambição assertiva](#Capítulo-13:-Ambição-assertiva)\n",
    "14. [Capítulo 14: Maximização de resultados por meio da ambição assertiva](#Capítulo-14:-Maximização-de-resultados-por-meio-da-ambição-assertiva)\n",
    "15. [Capítulo 15: Resolução assertiva de conflitos](#Capítulo-15:-Resolução-assertiva-de-conflitos)\n",
    "16. [Capítulo 16: Gerenciamento assertivo de conflitos e negociação](#Capítulo-16:-Gerenciamento-assertivo-de-conflitos-e-negociação)"
   ]
  },
  {
   "cell_type": "markdown",
   "id": "775ce4e6",
   "metadata": {},
   "source": [
    "# Capítulo 1: Uma introdução a assertividade\n",
    "[&#x1F53C;](#Sumário:) Clique para voltar para o sumário"
   ]
  },
  {
   "cell_type": "markdown",
   "id": "6e5f6ab2",
   "metadata": {},
   "source": [
    "# Capítulo 2: As três partes da mensagem assertiva\n",
    "[&#x1F53C;](#Sumário:) Clique para voltar para o sumário"
   ]
  },
  {
   "cell_type": "markdown",
   "id": "8e2bb18c",
   "metadata": {},
   "source": [
    "# Capítulo 3: Desenvolvimento assertivo da afinidade\n",
    "[&#x1F53C;](#Sumário:) Clique para voltar para o sumário"
   ]
  },
  {
   "cell_type": "markdown",
   "id": "148c712d",
   "metadata": {},
   "source": [
    "# Capítulo 4: Táticas para o desenvolvimento assertivo da afinidade\n",
    "[&#x1F53C;](#Sumário:) Clique para voltar para o sumário"
   ]
  },
  {
   "cell_type": "markdown",
   "id": "7098ab74",
   "metadata": {},
   "source": [
    "# Capítulo 5: Curiosidade assertiva\n",
    "[&#x1F53C;](#Sumário:) Clique para voltar para o sumário"
   ]
  },
  {
   "cell_type": "markdown",
   "id": "efc113b1",
   "metadata": {},
   "source": [
    "# Capítulo 6: Maximize a curiosidade assertiva nos negócios\n",
    "[&#x1F53C;](#Sumário:) Clique para voltar para o sumário"
   ]
  },
  {
   "cell_type": "markdown",
   "id": "a5a35258",
   "metadata": {},
   "source": [
    "# Capítulo 7: Da curiosidade para a compreensão\n",
    "[&#x1F53C;](#Sumário:) Clique para voltar para o sumário"
   ]
  },
  {
   "cell_type": "markdown",
   "id": "fd4cd9fa",
   "metadata": {},
   "source": [
    "# Capítulo 8: Etiqueta: regras fundamentais para habilidades interpessoais\n",
    "[&#x1F53C;](#Sumário:) Clique para voltar para o sumário"
   ]
  },
  {
   "cell_type": "markdown",
   "id": "83d72e0d",
   "metadata": {},
   "source": [
    "# Capítulo 9: Persuasão como habilidade interpessoal\n",
    "[&#x1F53C;](#Sumário:) Clique para voltar para o sumário"
   ]
  },
  {
   "cell_type": "markdown",
   "id": "a1c5e07d",
   "metadata": {},
   "source": [
    "# Capítulo 10: Elaboração habilidosa de perguntas\n",
    "[&#x1F53C;](#Sumário:) Clique para voltar para o sumário"
   ]
  },
  {
   "cell_type": "markdown",
   "id": "82308643",
   "metadata": {},
   "source": [
    "# Capítulo 11: Conversação assertiva\n",
    "[&#x1F53C;](#Sumário:) Clique para voltar para o sumário"
   ]
  },
  {
   "cell_type": "markdown",
   "id": "5742072c",
   "metadata": {},
   "source": [
    "# Capítulo 12: Ouvindo com assertividade\n",
    "[&#x1F53C;](#Sumário:) Clique para voltar para o sumário"
   ]
  },
  {
   "cell_type": "markdown",
   "id": "1cfc8999",
   "metadata": {},
   "source": [
    "# Capítulo 13: Ambição assertiva\n",
    "[&#x1F53C;](#Sumário:) Clique para voltar para o sumário"
   ]
  },
  {
   "cell_type": "markdown",
   "id": "d0c1afa5",
   "metadata": {},
   "source": [
    "# Capítulo 14: Maximização de resultados por meio da ambição assertiva\n",
    "[&#x1F53C;](#Sumário:) Clique para voltar para o sumário"
   ]
  },
  {
   "cell_type": "markdown",
   "id": "867d7f39",
   "metadata": {},
   "source": [
    "# Capítulo 15: Resolução assertiva de conflitos\n",
    "[&#x1F53C;](#Sumário:) Clique para voltar para o sumário"
   ]
  },
  {
   "cell_type": "markdown",
   "id": "cf875749",
   "metadata": {},
   "source": [
    "# Capítulo 16: Gerenciamento assertivo de conflitos e negociação\n",
    "[&#x1F53C;](#Sumário:) Clique para voltar para o sumário"
   ]
  }
 ],
 "metadata": {
  "kernelspec": {
   "display_name": "Python 3 (ipykernel)",
   "language": "python",
   "name": "python3"
  },
  "language_info": {
   "codemirror_mode": {
    "name": "ipython",
    "version": 3
   },
   "file_extension": ".py",
   "mimetype": "text/x-python",
   "name": "python",
   "nbconvert_exporter": "python",
   "pygments_lexer": "ipython3",
   "version": "3.9.16"
  }
 },
 "nbformat": 4,
 "nbformat_minor": 5
}
