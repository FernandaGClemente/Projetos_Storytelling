{
 "cells": [
  {
   "cell_type": "markdown",
   "id": "b20aa6de",
   "metadata": {},
   "source": [
    "# EPIC: 4 fatores "
   ]
  },
  {
   "cell_type": "markdown",
   "id": "ee88cbb2",
   "metadata": {},
   "source": [
    "Empatia: tente ver as coisas do ponto de vista da outra pessoa, imaginando como seria estar no lugar dela\n",
    "\tOuça ativamente e com atenção: Preste muita atenção ao que a outra pessoa está dizendo e tente entender sua perspectiva e sentimentos.\n",
    "\tMostre interesse: faça perguntas e expresse curiosidade genuína sobre as experiências e sentimentos da outra pessoa.\n",
    "\tPratique a atenção plena: esteja presente no momento e tente ignorar distrações ou noções preconcebidas.\n",
    "\tImagine-se no lugar da outra pessoa: pense em como seria estar na situação dela e como você se sentiria.\n",
    "\tEvite julgar ou reagir defensivamente: em vez disso, tente permanecer aberto e compreensivo.\n",
    "\tUse perguntas abertas: elas podem ajudar a encorajar a outra pessoa a compartilhar seus pensamentos e sentimentos.\n",
    "\tValide suas emoções: deixe a outra pessoa saber que seus sentimentos são válidos e compreensíveis.\n",
    "\t\tQual é o estado emocional da outra pessoa em relação ao assunto?\n",
    "\t\tQuais são os pensamentos e preocupações da outra pessoa?\n",
    "\t\tQual é o conhecimento e a compreensão da outra pessoa sobre o assunto?\n",
    "\t\tQuais são os valores e prioridades da outra pessoa em relação ao assunto?\n",
    "\t\tQuais são as possíveis consequências para a outra pessoa?\n",
    "\t\tQual é o significado do tópico para a outra pessoa?\n",
    "\t\tQue efeito isso tem sobre os possíveis resultados da conversa?\t"
   ]
  },
  {
   "cell_type": "markdown",
   "id": "ed9a9fdb",
   "metadata": {},
   "source": [
    "Propósito: Certifique-se de que tanto as suas necessidades quanto as da outra pessoa sejam levadas em consideração ao determinar o objetivo\n",
    "\tIdentifique seus objetivos: defina claramente o que deseja alcançar por meio de sua comunicação.\n",
    "\tEntenda seu público: considere suas necessidades, interesses e perspectivas para adaptar sua mensagem.\n",
    "\tUse linguagem clara e concisa: Evite jargões ou palavras desnecessárias e use linguagem simples e direta.\n",
    "\tSeja específico e concreto: Use exemplos ou detalhes concretos para ilustrar seus pontos.\n",
    "\tUse a escuta ativa: preste atenção ao que a outra pessoa está dizendo e faça perguntas esclarecedoras para garantir a compreensão.\n",
    "\tUse dicas não verbais: use expressões faciais, contato visual e linguagem corporal para transmitir sua mensagem.\n",
    "\tUse o tom apropriado: escolha um tom apropriado para a situação e o público.\t\n",
    "\t\tQuais são os objetivos ou resultados desejados da outra pessoa para a conversa?\n",
    "\t\tQuais são seus objetivos ou resultados desejados para esta conversa?\n",
    "\t\tQual é o objetivo principal da sua colaboração e como essa conversa ajuda a alcançá-lo?"
   ]
  },
  {
   "cell_type": "markdown",
   "id": "b0cf7d31",
   "metadata": {},
   "source": [
    "Entendimento: Expresse suas ideias de uma maneira fácil de entender e convença os outros a ver sua perspectiva\n",
    "\tQuais insights são mais importantes para alcançar o sucesso neste contexto?\n",
    "\tQue narrativa pode ajudá-lo a priorizar esses insights?\n",
    "\tQue frases curtas expressam melhor suas ideias?\n",
    "\tQuais recursos ou métodos melhor transmitirão esses insights?"
   ]
  },
  {
   "cell_type": "markdown",
   "id": "d9cbd0d1",
   "metadata": {},
   "source": [
    "Conversação: Desenvolver uma estratégia para criar um diálogo produtivo que permita que ambas as partes se comuniquem de forma eficaz\n",
    "\tQual é o propósito desta conversa? Entender o motivo da conversa pode ajudá-lo a focar nos pontos mais importantes e garantir que você permaneça no caminho certo.\n",
    "\tQue perguntas a outra pessoa pode fazer?\n",
    "\tQuem é o público desta conversa? Compreender o histórico e a perspectiva das pessoas com quem você está se comunicando pode ajudá-lo a adaptar sua mensagem para ser mais eficaz.\n",
    "\tQual é o estilo de comunicação mais apropriado para esta conversa? Diferentes situações podem exigir diferentes estilos de comunicação, como ser mais formal ou mais casual.\n",
    "\tComo posso mostrar que estou ouvindo ativamente? Prestar atenção na outra pessoa e demonstrar que está ouvindo pode ajudar a construir confiança e empatia.\n",
    "\tComo posso expressar meus pensamentos e sentimentos de forma clara e eficaz? Ser capaz de articular seus pensamentos e sentimentos de uma maneira fácil para os outros entenderem pode ajudar a facilitar uma conversa produtiva.\n",
    "\tComo você deseja que a conversa comece e termine (em uma nota positiva)?\n",
    "\tComo você usará perguntas e declarações para iniciar a conversa?"
   ]
  },
  {
   "cell_type": "code",
   "execution_count": null,
   "id": "455bf3e3",
   "metadata": {},
   "outputs": [],
   "source": []
  }
 ],
 "metadata": {
  "kernelspec": {
   "display_name": "Python 3 (ipykernel)",
   "language": "python",
   "name": "python3"
  },
  "language_info": {
   "codemirror_mode": {
    "name": "ipython",
    "version": 3
   },
   "file_extension": ".py",
   "mimetype": "text/x-python",
   "name": "python",
   "nbconvert_exporter": "python",
   "pygments_lexer": "ipython3",
   "version": "3.9.16"
  }
 },
 "nbformat": 4,
 "nbformat_minor": 5
}
