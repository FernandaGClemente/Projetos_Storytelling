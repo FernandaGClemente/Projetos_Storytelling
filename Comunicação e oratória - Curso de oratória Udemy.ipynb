{
 "cells": [
  {
   "cell_type": "markdown",
   "id": "28931a18",
   "metadata": {},
   "source": [
    "<center><img width=\"25%\" src=\"https://www.camaramirimdoce.sc.gov.br/media/noticia/resumo-da-sessao-10-06-2019-111.png?w=848&h=450&t=P&c=f0f0f0&q=80&v=2\"></center>\n",
    "\n",
    "---\n",
    "\n",
    "<br>\n",
    "\n",
    "# Comunicação e oratória - Curso de oratória\n",
    "##### Udemy\n",
    "\n",
    "<br>"
   ]
  },
  {
   "cell_type": "markdown",
   "id": "32294152",
   "metadata": {},
   "source": [
    "# **Sumário:**\n",
    "1. [Seção 1: Você pode ser um grande comunicador](#Seção-1:-Você-pode-ser-um-grande-comunicador)\n",
    "2. [Seção 2: Consiga exatamente o que quer com uma comunicação assertiva](#Seção-2:-Consiga-exatamente-o-que-quer-com-uma-comunicação-assertiva)\n",
    "3. [Seção 3: Você pode ser um grande comunicador](#Seção-1:-Você-pode-ser-um-grande-comunicador)"
   ]
  },
  {
   "cell_type": "markdown",
   "id": "2073f83b",
   "metadata": {},
   "source": [
    "### **Seção 1: Você pode ser um grande comunicador** \n",
    "[&#x1F53C;](#Sumário:) Clique para voltar para o sumário"
   ]
  },
  {
   "cell_type": "markdown",
   "id": "275bc4b0",
   "metadata": {},
   "source": [
    "##### 1º passo: Identificar padrões prejudiciais na sua fala e que tem prejudicado a sua comunicação. <br>\n",
    "##### 2º passo: Identificar padrões eficientes de fala que você pode utilizar que vão expressar melhor aquilo que você deseja expressar.\n",
    "| Prejudicial | Eficiente |\n",
    "| --- | --- |\n",
    "| Ideia | Solução/Prosposta/Resposta |\n",
    "| Eu acho | Eu acredito que ...porque |\n",
    "| Eu preciso | Coloque a necessidade como foco e não você |\n",
    "| Injusto | Justo |\n",
    "| Eu gosto | É importante que / É essencial que |\n",
    "| Você não entende | Tente me entender, por favor |\n",
    "\n",
    "<br>\n",
    "\n",
    "##### Saber ouvir: Não seja ansioso, fique calado, ouça, deixe o outro se expressar, sua opnião não é a mais importante, não seja egoista, não metralhe os outros com suas ideias, esteja presente ouvindo o que a pessoa tenha a dizer e adapte sua mensagem com o que você está ouvindo. \n",
    "* Ouvir as pessoas sem fazer julgamentos, sem interromper e prestando máximo atenção.\n",
    "* Ao final, oferecer uma opnião ou argumentação, baseadas no que foi dito."
   ]
  },
  {
   "cell_type": "markdown",
   "id": "1bbe0e1d",
   "metadata": {},
   "source": [
    "### **Seção 2: Consiga exatamente o que quer com uma comunicação assertiva** \n",
    "[&#x1F53C;](#Sumário:) Clique para voltar para o sumário"
   ]
  },
  {
   "cell_type": "markdown",
   "id": "658f9e2c",
   "metadata": {},
   "source": [
    "##### Ninguém se preocupa com você: Primeiro as pessoas, as necessidades delas e como você vai resolver essas questões, depois, talvez, elas queiram saber mais sobre você. <br>\n",
    "##### Intenção (Espera que entendam ou sintam) X Realidade (Aquilo que realmente entendem ou sintem): Consiste em fazer com que a pessoa entenda o que está sendo falado, sem margem para qualquer má interpretação. <br>\n",
    "##### A impressão que você passa para as pessoas reforça ou enfraquece a mensagem que você está passando. \n",
    "* O que, essencialmente, você quer que as pessoas tenham absorvido?\n",
    "* Qual a impressão que você quer que as pessoas tenham de você? (Não cause uma impressão por acaso nas pessoas, cause a impressão que você planejou causar.)\n",
    "* O que você quer que as pessoas façam após lhe ouvir? (Atitudes após ouvir: 1 - O que, 2 - Quando, 3 - Como e 4 - Benefícios por fazer) \n",
    "\n",
    "<br>\n",
    "\n",
    "##### "
   ]
  },
  {
   "cell_type": "markdown",
   "id": "ea285a62",
   "metadata": {},
   "source": [
    "### **Seção 3: Consiga exatamente o que quer com uma comunicação assertiva** \n",
    "[&#x1F53C;](#Sumário:) Clique para voltar para o sumário"
   ]
  },
  {
   "cell_type": "markdown",
   "id": "4aa3ca43",
   "metadata": {},
   "source": []
  },
  {
   "cell_type": "markdown",
   "id": "65808efc",
   "metadata": {},
   "source": []
  },
  {
   "cell_type": "markdown",
   "id": "e24ff09a",
   "metadata": {},
   "source": []
  },
  {
   "cell_type": "markdown",
   "id": "75fb49f0",
   "metadata": {},
   "source": []
  },
  {
   "cell_type": "markdown",
   "id": "c3c9cc40",
   "metadata": {},
   "source": []
  },
  {
   "cell_type": "markdown",
   "id": "ec55ac7c",
   "metadata": {},
   "source": []
  },
  {
   "cell_type": "markdown",
   "id": "04a7dbc1",
   "metadata": {},
   "source": []
  },
  {
   "cell_type": "markdown",
   "id": "f9c54344",
   "metadata": {},
   "source": []
  },
  {
   "cell_type": "markdown",
   "id": "3f8fa9ba",
   "metadata": {},
   "source": []
  },
  {
   "cell_type": "markdown",
   "id": "54501f96",
   "metadata": {},
   "source": []
  },
  {
   "cell_type": "markdown",
   "id": "9cde449f",
   "metadata": {},
   "source": []
  }
 ],
 "metadata": {
  "kernelspec": {
   "display_name": "Python 3 (ipykernel)",
   "language": "python",
   "name": "python3"
  },
  "language_info": {
   "codemirror_mode": {
    "name": "ipython",
    "version": 3
   },
   "file_extension": ".py",
   "mimetype": "text/x-python",
   "name": "python",
   "nbconvert_exporter": "python",
   "pygments_lexer": "ipython3",
   "version": "3.9.16"
  }
 },
 "nbformat": 4,
 "nbformat_minor": 5
}
